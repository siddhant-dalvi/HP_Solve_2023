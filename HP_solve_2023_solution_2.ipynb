{
 "cells": [
  {
   "cell_type": "code",
   "execution_count": null,
   "id": "6597cb85",
   "metadata": {},
   "outputs": [],
   "source": [
    "import tweepy\n",
    "import nltk\n",
    "import pandas as pd"
   ]
  },
  {
   "cell_type": "code",
   "execution_count": null,
   "id": "708d6904",
   "metadata": {},
   "outputs": [],
   "source": [
    "# Authenticate with Twitter\n",
    "auth = tweepy.OAuthHandler(\"CONSUMER_KEY\", \"CONSUMER_SECRET\")\n",
    "auth.set_access_token(\"ACCESS_TOKEN\", \"ACCESS_TOKEN_SECRET\")"
   ]
  },
  {
   "cell_type": "code",
   "execution_count": null,
   "id": "4acf7296",
   "metadata": {},
   "outputs": [],
   "source": [
    "# Create an API object\n",
    "api = tweepy.API(auth)"
   ]
  },
  {
   "cell_type": "code",
   "execution_count": null,
   "id": "e2d0655c",
   "metadata": {},
   "outputs": [],
   "source": [
    "# Define a function to get the sentiment of a tweet\n",
    "def get_sentiment(tweet):\n",
    "    # Tokenize the tweet\n",
    "    tokens = nltk.word_tokenize(tweet.text)"
   ]
  },
  {
   "cell_type": "code",
   "execution_count": null,
   "id": "33ac5fc8",
   "metadata": {},
   "outputs": [],
   "source": [
    " # Create a bag of words\n",
    "    bag_of_words = nltk.FreqDist(tokens)"
   ]
  },
  {
   "cell_type": "code",
   "execution_count": null,
   "id": "9977b10c",
   "metadata": {},
   "outputs": [],
   "source": [
    " # Calculate the sentiment score\n",
    "    sentiment_score = 0\n",
    "    for word, frequency in bag_of_words.items():\n",
    "        sentiment_score += nltk.sentiment.vader_lexicon.polarity_scores(word)[0]"
   ]
  },
  {
   "cell_type": "code",
   "execution_count": null,
   "id": "6e98e933",
   "metadata": {},
   "outputs": [],
   "source": [
    "# Return the sentiment score\n",
    "    return sentiment_score"
   ]
  },
  {
   "cell_type": "code",
   "execution_count": null,
   "id": "22153235",
   "metadata": {},
   "outputs": [],
   "source": [
    "# Define a function to get the features of a tweet\n",
    "def get_features(tweet):\n",
    "    # Get the text of the tweet\n",
    "    text = tweet.text"
   ]
  },
  {
   "cell_type": "code",
   "execution_count": null,
   "id": "ca2bbf4e",
   "metadata": {},
   "outputs": [],
   "source": [
    " # Get the hashtags in the tweet\n",
    "    hashtags = tweet.entities[\"hashtags\"]\n"
   ]
  },
  {
   "cell_type": "code",
   "execution_count": null,
   "id": "58dd8494",
   "metadata": {},
   "outputs": [],
   "source": [
    "# Get the user who tweeted the tweet\n",
    "    user = tweet.user\n"
   ]
  },
  {
   "cell_type": "code",
   "execution_count": null,
   "id": "b8dbfcc8",
   "metadata": {},
   "outputs": [],
   "source": [
    " # Get the location of the user who tweeted the tweet\n",
    "    location = user.location"
   ]
  },
  {
   "cell_type": "code",
   "execution_count": null,
   "id": "f944f9d9",
   "metadata": {},
   "outputs": [],
   "source": [
    " # Get the time when the tweet was posted\n",
    "    time = tweet.created_at"
   ]
  },
  {
   "cell_type": "code",
   "execution_count": null,
   "id": "41ac5d42",
   "metadata": {},
   "outputs": [],
   "source": [
    "# Return a dictionary of features\n",
    "    return {\n",
    "        \"text\": text,\n",
    "        \"hashtags\": hashtags,\n",
    "        \"user\": user,\n",
    "        \"location\": location,\n",
    "        \"time\": time\n",
    "    }"
   ]
  },
  {
   "cell_type": "code",
   "execution_count": null,
   "id": "09a5d859",
   "metadata": {},
   "outputs": [],
   "source": [
    "# Define a function to crawl Twitter for posts talking about HP printers\n",
    "def crawl_twitter():\n",
    "    # Get all tweets that mention HP printers\n",
    "    tweets = api.search(q=\"hp printer\")"
   ]
  },
  {
   "cell_type": "code",
   "execution_count": null,
   "id": "3b6a230f",
   "metadata": {},
   "outputs": [],
   "source": [
    "# Create a DataFrame of the tweets\n",
    "    df = pd.DataFrame([get_features(tweet) for tweet in tweets])\n",
    "\n",
    "# Add the sentiment of each tweet to the DataFrame\n",
    "    df[\"sentiment\"] = df[\"text\"].apply(get_sentiment)"
   ]
  },
  {
   "cell_type": "code",
   "execution_count": null,
   "id": "b88fd0f3",
   "metadata": {},
   "outputs": [],
   "source": [
    "# Return the DataFrame\n",
    "    return df"
   ]
  },
  {
   "cell_type": "code",
   "execution_count": null,
   "id": "604b87d7",
   "metadata": {},
   "outputs": [],
   "source": [
    "# Crawl Twitter for posts talking about HP printers\n",
    "df = crawl_twitter()\n",
    "\n",
    "# Print the first few rows of the DataFrame\n",
    "print(df.head())\n",
    "\n",
    "# Save the DataFrame to a file\n",
    "df.to_csv(\"hp_printers.csv\", index=False)"
   ]
  }
 ],
 "metadata": {
  "kernelspec": {
   "display_name": "Python 3 (ipykernel)",
   "language": "python",
   "name": "python3"
  },
  "language_info": {
   "codemirror_mode": {
    "name": "ipython",
    "version": 3
   },
   "file_extension": ".py",
   "mimetype": "text/x-python",
   "name": "python",
   "nbconvert_exporter": "python",
   "pygments_lexer": "ipython3",
   "version": "3.9.13"
  }
 },
 "nbformat": 4,
 "nbformat_minor": 5
}
